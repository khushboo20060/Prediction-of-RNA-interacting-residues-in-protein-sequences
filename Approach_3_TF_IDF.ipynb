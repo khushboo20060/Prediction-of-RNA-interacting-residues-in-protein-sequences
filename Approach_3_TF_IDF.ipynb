{
  "nbformat": 4,
  "nbformat_minor": 0,
  "metadata": {
    "colab": {
      "name": "Approach 3 TF-IDF.ipynb",
      "provenance": []
    },
    "kernelspec": {
      "name": "python3",
      "display_name": "Python 3"
    },
    "language_info": {
      "name": "python"
    }
  },
  "cells": [
    {
      "cell_type": "code",
      "metadata": {
        "id": "-sbryO0UGUCu",
        "colab": {
          "base_uri": "https://localhost:8080/"
        },
        "outputId": "a44887d5-2a92-4ea9-d5a9-403268f8314d"
      },
      "source": [
        "import pandas as pd\n",
        "import numpy as np\n",
        "from sklearn.model_selection import train_test_split\n",
        "from sklearn.neighbors import KNeighborsClassifier\n",
        "from sklearn.metrics import accuracy_score\n",
        "from sklearn.ensemble import GradientBoostingClassifier\n",
        "from sklearn.ensemble import VotingClassifier\n",
        "import matplotlib.pyplot as plt\n",
        "from matplotlib.colors import ListedColormap\n",
        "from imblearn.under_sampling import NearMiss\n",
        "from imblearn.under_sampling import RandomUnderSampler\n",
        "from imblearn.over_sampling import RandomOverSampler\n",
        "from sklearn.manifold import TSNE\n",
        "from sklearn.preprocessing import StandardScaler\n",
        "from sklearn.ensemble import RandomForestClassifier\n",
        "from sklearn.ensemble import RandomForestRegressor\n",
        "from sklearn.ensemble import GradientBoostingRegressor\n",
        "import statistics\n",
        "from collections import Counter\n",
        "from imblearn.under_sampling import NearMiss\n",
        "import joblib\n",
        "import seaborn as sns\n",
        "from sklearn.metrics import confusion_matrix, classification_report\n",
        "from sklearn.metrics import matthews_corrcoef\n",
        "from sklearn import svm"
      ],
      "execution_count": 1,
      "outputs": [
        {
          "output_type": "stream",
          "text": [
            "/usr/local/lib/python3.7/dist-packages/sklearn/externals/six.py:31: FutureWarning: The module is deprecated in version 0.21 and will be removed in version 0.23 since we've dropped support for Python 2.7. Please rely on the official version of six (https://pypi.org/project/six/).\n",
            "  \"(https://pypi.org/project/six/).\", FutureWarning)\n",
            "/usr/local/lib/python3.7/dist-packages/sklearn/utils/deprecation.py:144: FutureWarning: The sklearn.neighbors.base module is  deprecated in version 0.22 and will be removed in version 0.24. The corresponding classes / functions should instead be imported from sklearn.neighbors. Anything that cannot be imported from sklearn.neighbors is now part of the private API.\n",
            "  warnings.warn(message, FutureWarning)\n"
          ],
          "name": "stderr"
        }
      ]
    },
    {
      "cell_type": "code",
      "metadata": {
        "id": "j8o3wQMEH000"
      },
      "source": [
        "import numpy as np # linear algebra\n",
        "import pandas as pd # data processing, CSV file I/O (e.g. pd.read_csv)\n",
        "from tqdm import tqdm\n",
        "from sklearn.feature_extraction.text import TfidfVectorizer\n",
        "from sklearn.preprocessing import LabelEncoder\n",
        "from scipy.sparse import hstack, csr_matrix\n",
        "from sklearn.model_selection import train_test_split, RandomizedSearchCV, GridSearchCV\n",
        "from sklearn import metrics\n",
        "from sklearn.metrics import confusion_matrix, roc_curve, auc, roc_auc_score\n",
        "from sklearn.feature_extraction.text import TfidfVectorizer\n",
        "from sklearn.linear_model import LogisticRegression\n",
        "from sklearn.model_selection import cross_val_score\n",
        "from sklearn.model_selection import train_test_split \n",
        "from sklearn.naive_bayes import MultinomialNB\n",
        "from sklearn.metrics import accuracy_score\n",
        "from sklearn.metrics import log_loss,confusion_matrix,classification_report,roc_curve,auc\n",
        "from sklearn.pipeline import Pipeline\n",
        "from sklearn.pipeline import make_union\n",
        "from scipy.sparse import hstack\n",
        "import time\n",
        "import regex as re\n",
        "import string\n",
        "from scipy.sparse import csr_matrix\n",
        "from sklearn.preprocessing import MinMaxScaler, OneHotEncoder\n",
        "import gc\n",
        "from sklearn.metrics import roc_auc_score"
      ],
      "execution_count": 2,
      "outputs": []
    },
    {
      "cell_type": "code",
      "metadata": {
        "colab": {
          "base_uri": "https://localhost:8080/"
        },
        "id": "Zk3bSDDyHKn4",
        "outputId": "7e0e0240-37f0-4d6e-a7c6-b88e655d5f85"
      },
      "source": [
        "from google.colab import drive\n",
        "drive.mount('/content/drive')"
      ],
      "execution_count": 3,
      "outputs": [
        {
          "output_type": "stream",
          "text": [
            "Mounted at /content/drive\n"
          ],
          "name": "stdout"
        }
      ]
    },
    {
      "cell_type": "code",
      "metadata": {
        "id": "htSzBpTxGY-h"
      },
      "source": [
        "df = pd.read_csv(\"/content/drive/MyDrive/IP_Raghavasir/dataset_original/RNA_Train.csv\")"
      ],
      "execution_count": 4,
      "outputs": []
    },
    {
      "cell_type": "code",
      "metadata": {
        "id": "rFmA48TmNkes"
      },
      "source": [
        "test = pd.read_csv(\"/content/drive/MyDrive/IP_Raghavasir/dataset_original/test (1).csv\")"
      ],
      "execution_count": 5,
      "outputs": []
    },
    {
      "cell_type": "code",
      "metadata": {
        "colab": {
          "base_uri": "https://localhost:8080/",
          "height": 419
        },
        "id": "EqYWA2R4XxGu",
        "outputId": "c9df9a61-0731-4a57-c76b-5c8a81db87ab"
      },
      "source": [
        "df"
      ],
      "execution_count": 6,
      "outputs": [
        {
          "output_type": "execute_result",
          "data": {
            "text/html": [
              "<div>\n",
              "<style scoped>\n",
              "    .dataframe tbody tr th:only-of-type {\n",
              "        vertical-align: middle;\n",
              "    }\n",
              "\n",
              "    .dataframe tbody tr th {\n",
              "        vertical-align: top;\n",
              "    }\n",
              "\n",
              "    .dataframe thead th {\n",
              "        text-align: right;\n",
              "    }\n",
              "</style>\n",
              "<table border=\"1\" class=\"dataframe\">\n",
              "  <thead>\n",
              "    <tr style=\"text-align: right;\">\n",
              "      <th></th>\n",
              "      <th>Sequence</th>\n",
              "      <th>label</th>\n",
              "    </tr>\n",
              "  </thead>\n",
              "  <tbody>\n",
              "    <tr>\n",
              "      <th>0</th>\n",
              "      <td>XXXXXXXXMLQLVRAGA</td>\n",
              "      <td>0</td>\n",
              "    </tr>\n",
              "    <tr>\n",
              "      <th>1</th>\n",
              "      <td>XXXXXXXMLQLVRAGAR</td>\n",
              "      <td>0</td>\n",
              "    </tr>\n",
              "    <tr>\n",
              "      <th>2</th>\n",
              "      <td>XXXXXXMLQLVRAGART</td>\n",
              "      <td>0</td>\n",
              "    </tr>\n",
              "    <tr>\n",
              "      <th>3</th>\n",
              "      <td>XXXXXMLQLVRAGARTW</td>\n",
              "      <td>0</td>\n",
              "    </tr>\n",
              "    <tr>\n",
              "      <th>4</th>\n",
              "      <td>XXXXMLQLVRAGARTWF</td>\n",
              "      <td>0</td>\n",
              "    </tr>\n",
              "    <tr>\n",
              "      <th>...</th>\n",
              "      <td>...</td>\n",
              "      <td>...</td>\n",
              "    </tr>\n",
              "    <tr>\n",
              "      <th>330857</th>\n",
              "      <td>AKPEGTFKLVAMLXXXX</td>\n",
              "      <td>0</td>\n",
              "    </tr>\n",
              "    <tr>\n",
              "      <th>330858</th>\n",
              "      <td>KPEGTFKLVAMLXXXXX</td>\n",
              "      <td>0</td>\n",
              "    </tr>\n",
              "    <tr>\n",
              "      <th>330859</th>\n",
              "      <td>PEGTFKLVAMLXXXXXX</td>\n",
              "      <td>0</td>\n",
              "    </tr>\n",
              "    <tr>\n",
              "      <th>330860</th>\n",
              "      <td>EGTFKLVAMLXXXXXXX</td>\n",
              "      <td>0</td>\n",
              "    </tr>\n",
              "    <tr>\n",
              "      <th>330861</th>\n",
              "      <td>GTFKLVAMLXXXXXXXX</td>\n",
              "      <td>0</td>\n",
              "    </tr>\n",
              "  </tbody>\n",
              "</table>\n",
              "<p>330862 rows × 2 columns</p>\n",
              "</div>"
            ],
            "text/plain": [
              "                 Sequence  label\n",
              "0       XXXXXXXXMLQLVRAGA      0\n",
              "1       XXXXXXXMLQLVRAGAR      0\n",
              "2       XXXXXXMLQLVRAGART      0\n",
              "3       XXXXXMLQLVRAGARTW      0\n",
              "4       XXXXMLQLVRAGARTWF      0\n",
              "...                   ...    ...\n",
              "330857  AKPEGTFKLVAMLXXXX      0\n",
              "330858  KPEGTFKLVAMLXXXXX      0\n",
              "330859  PEGTFKLVAMLXXXXXX      0\n",
              "330860  EGTFKLVAMLXXXXXXX      0\n",
              "330861  GTFKLVAMLXXXXXXXX      0\n",
              "\n",
              "[330862 rows x 2 columns]"
            ]
          },
          "metadata": {
            "tags": []
          },
          "execution_count": 6
        }
      ]
    },
    {
      "cell_type": "code",
      "metadata": {
        "id": "hX5jkHrSHmWW"
      },
      "source": [
        "char_vectorizer = TfidfVectorizer(\n",
        "    sublinear_tf=True,\n",
        "    strip_accents='unicode',\n",
        "    analyzer='char',\n",
        "    ngram_range=(1, 4),\n",
        "    dtype=np.float32,\n",
        "    max_features=900000\n",
        ")"
      ],
      "execution_count": 7,
      "outputs": []
    },
    {
      "cell_type": "code",
      "metadata": {
        "id": "p8vxyY89PV14"
      },
      "source": [
        "word_vectorizer = TfidfVectorizer(\n",
        "    sublinear_tf=True,\n",
        "    strip_accents='unicode',\n",
        "    analyzer='word',\n",
        "    token_pattern=r'\\w{1,}',\n",
        "    ngram_range=(1,1),\n",
        "    dtype=np.float32,\n",
        "    max_features=8000\n",
        ")"
      ],
      "execution_count": 8,
      "outputs": []
    },
    {
      "cell_type": "code",
      "metadata": {
        "colab": {
          "base_uri": "https://localhost:8080/"
        },
        "id": "sHmgVdZWPgSD",
        "outputId": "9d3a9bf0-d460-4b21-cb77-d81be95b0739"
      },
      "source": [
        "word_vectorizer.fit(df['Sequence'])"
      ],
      "execution_count": 9,
      "outputs": [
        {
          "output_type": "execute_result",
          "data": {
            "text/plain": [
              "TfidfVectorizer(analyzer='word', binary=False, decode_error='strict',\n",
              "                dtype=<class 'numpy.float32'>, encoding='utf-8',\n",
              "                input='content', lowercase=True, max_df=1.0, max_features=8000,\n",
              "                min_df=1, ngram_range=(1, 1), norm='l2', preprocessor=None,\n",
              "                smooth_idf=True, stop_words=None, strip_accents='unicode',\n",
              "                sublinear_tf=True, token_pattern='\\\\w{1,}', tokenizer=None,\n",
              "                use_idf=True, vocabulary=None)"
            ]
          },
          "metadata": {
            "tags": []
          },
          "execution_count": 9
        }
      ]
    },
    {
      "cell_type": "code",
      "metadata": {
        "id": "PWANE1frPmp0"
      },
      "source": [
        "train_word_features = word_vectorizer.transform(df['Sequence'])"
      ],
      "execution_count": 10,
      "outputs": []
    },
    {
      "cell_type": "code",
      "metadata": {
        "id": "7P1cIdbHPt5e",
        "colab": {
          "base_uri": "https://localhost:8080/"
        },
        "outputId": "d635f526-c3ee-489c-c807-19cc931fc75f"
      },
      "source": [
        "print(train_word_features)"
      ],
      "execution_count": 11,
      "outputs": [
        {
          "output_type": "stream",
          "text": [
            "  (109, 7598)\t1.0\n",
            "  (110, 5362)\t1.0\n",
            "  (114, 3484)\t1.0\n",
            "  (115, 5869)\t1.0\n",
            "  (117, 6447)\t1.0\n",
            "  (153, 7608)\t1.0\n",
            "  (154, 5718)\t1.0\n",
            "  (160, 2474)\t1.0\n",
            "  (253, 7034)\t1.0\n",
            "  (257, 7103)\t1.0\n",
            "  (259, 6275)\t1.0\n",
            "  (260, 4240)\t1.0\n",
            "  (4365, 7914)\t1.0\n",
            "  (4366, 7871)\t1.0\n",
            "  (4367, 7828)\t1.0\n",
            "  (4368, 7786)\t1.0\n",
            "  (4369, 7746)\t1.0\n",
            "  (4370, 7706)\t1.0\n",
            "  (4371, 4365)\t1.0\n",
            "  (4372, 6253)\t1.0\n",
            "  (4374, 6374)\t1.0\n",
            "  (4380, 3238)\t1.0\n",
            "  (4382, 7423)\t1.0\n",
            "  (4389, 215)\t1.0\n",
            "  (4390, 4521)\t1.0\n",
            "  :\t:\n",
            "  (330342, 4453)\t1.0\n",
            "  (330348, 3967)\t1.0\n",
            "  (330351, 2752)\t1.0\n",
            "  (330352, 1893)\t1.0\n",
            "  (330354, 3974)\t1.0\n",
            "  (330356, 5230)\t1.0\n",
            "  (330358, 3317)\t1.0\n",
            "  (330359, 3545)\t1.0\n",
            "  (330360, 6435)\t1.0\n",
            "  (330362, 2706)\t1.0\n",
            "  (330363, 1276)\t1.0\n",
            "  (330367, 2073)\t1.0\n",
            "  (330368, 867)\t1.0\n",
            "  (330369, 2281)\t1.0\n",
            "  (330370, 7405)\t1.0\n",
            "  (330371, 5652)\t1.0\n",
            "  (330372, 1477)\t1.0\n",
            "  (330373, 6681)\t1.0\n",
            "  (330375, 3789)\t1.0\n",
            "  (330844, 2026)\t1.0\n",
            "  (330846, 7246)\t1.0\n",
            "  (330849, 3558)\t1.0\n",
            "  (330851, 1885)\t1.0\n",
            "  (330852, 7113)\t1.0\n",
            "  (330858, 3385)\t1.0\n"
          ],
          "name": "stdout"
        }
      ]
    },
    {
      "cell_type": "code",
      "metadata": {
        "colab": {
          "base_uri": "https://localhost:8080/"
        },
        "id": "mc5X4a_MHmSw",
        "outputId": "97b29d4b-641b-4c05-8b06-b45349c2da72"
      },
      "source": [
        "char_vectorizer.fit(df['Sequence'])"
      ],
      "execution_count": 12,
      "outputs": [
        {
          "output_type": "execute_result",
          "data": {
            "text/plain": [
              "TfidfVectorizer(analyzer='char', binary=False, decode_error='strict',\n",
              "                dtype=<class 'numpy.float32'>, encoding='utf-8',\n",
              "                input='content', lowercase=True, max_df=1.0,\n",
              "                max_features=900000, min_df=1, ngram_range=(1, 4), norm='l2',\n",
              "                preprocessor=None, smooth_idf=True, stop_words=None,\n",
              "                strip_accents='unicode', sublinear_tf=True,\n",
              "                token_pattern='(?u)\\\\b\\\\w\\\\w+\\\\b', tokenizer=None, use_idf=True,\n",
              "                vocabulary=None)"
            ]
          },
          "metadata": {
            "tags": []
          },
          "execution_count": 12
        }
      ]
    },
    {
      "cell_type": "code",
      "metadata": {
        "id": "z7MJaeM5HmMb"
      },
      "source": [
        "train_char_features = char_vectorizer.transform(df['Sequence'])"
      ],
      "execution_count": 13,
      "outputs": []
    },
    {
      "cell_type": "code",
      "metadata": {
        "id": "NSAjmHjpNhm4"
      },
      "source": [
        "test_char_features = char_vectorizer.transform(test['Sequence'])"
      ],
      "execution_count": 14,
      "outputs": []
    },
    {
      "cell_type": "code",
      "metadata": {
        "id": "mkU0YCCcIqBL",
        "colab": {
          "base_uri": "https://localhost:8080/"
        },
        "outputId": "fce6cdec-f991-4b28-c769-93b2ea21bea2"
      },
      "source": [
        "print(train_char_features)"
      ],
      "execution_count": 15,
      "outputs": [
        {
          "output_type": "stream",
          "text": [
            "  (0, 105210)\t0.27563837\n",
            "  (0, 105208)\t0.117820054\n",
            "  (0, 105206)\t0.28284255\n",
            "  (0, 105193)\t0.19431642\n",
            "  (0, 105184)\t0.11416951\n",
            "  (0, 105179)\t0.2877051\n",
            "  (0, 105039)\t0.24847156\n",
            "  (0, 105028)\t0.19116573\n",
            "  (0, 104908)\t0.111007206\n",
            "  (0, 104900)\t0.2910073\n",
            "  (0, 100360)\t0.19133492\n",
            "  (0, 100354)\t0.1441091\n",
            "  (0, 100353)\t0.08459809\n",
            "  (0, 95848)\t0.032423906\n",
            "  (0, 77370)\t0.19795145\n",
            "  (0, 77369)\t0.14590976\n",
            "  (0, 77281)\t0.08491597\n",
            "  (0, 77280)\t0.033954434\n",
            "  (0, 74666)\t0.19994102\n",
            "  (0, 74654)\t0.15666327\n",
            "  (0, 74351)\t0.09226991\n",
            "  (0, 71936)\t0.041663233\n",
            "  (0, 58482)\t0.23855434\n",
            "  (0, 58473)\t0.17873195\n",
            "  (0, 58276)\t0.1064185\n",
            "  :\t:\n",
            "  (330861, 58276)\t0.09888049\n",
            "  (330861, 56334)\t0.04777361\n",
            "  (330861, 56026)\t0.16872762\n",
            "  (330861, 56025)\t0.16534263\n",
            "  (330861, 56024)\t0.16240954\n",
            "  (330861, 55477)\t0.22346653\n",
            "  (330861, 55466)\t0.13187127\n",
            "  (330861, 55465)\t0.07608781\n",
            "  (330861, 49540)\t0.04707078\n",
            "  (330861, 46331)\t0.19375803\n",
            "  (330861, 46330)\t0.1299319\n",
            "  (330861, 45995)\t0.072977796\n",
            "  (330861, 43018)\t0.030708529\n",
            "  (330861, 31768)\t0.20393921\n",
            "  (330861, 31762)\t0.15769574\n",
            "  (330861, 31699)\t0.085596114\n",
            "  (330861, 26506)\t0.030307055\n",
            "  (330861, 23578)\t0.20555022\n",
            "  (330861, 23561)\t0.14938249\n",
            "  (330861, 23426)\t0.094985396\n",
            "  (330861, 21379)\t0.040016897\n",
            "  (330861, 3407)\t0.23087142\n",
            "  (330861, 3389)\t0.15203163\n",
            "  (330861, 3271)\t0.10286451\n",
            "  (330861, 0)\t0.030080697\n"
          ],
          "name": "stdout"
        }
      ]
    },
    {
      "cell_type": "code",
      "metadata": {
        "id": "zvRLNeYTHmIl"
      },
      "source": [
        "model_NB = MultinomialNB()"
      ],
      "execution_count": 16,
      "outputs": []
    },
    {
      "cell_type": "code",
      "metadata": {
        "id": "Bl2XzzFoHmFP"
      },
      "source": [
        "X_train_tfidf, X_test_tfidf, y_train_tfidf, y_test_tfidf = train_test_split(train_char_features, df['label'], train_size=0.75)"
      ],
      "execution_count": 17,
      "outputs": []
    },
    {
      "cell_type": "code",
      "metadata": {
        "id": "EUZCBk0pQ_Dt"
      },
      "source": [
        "model_GB = GradientBoostingClassifier(n_estimators=500, max_depth=6)\n",
        "model_GB.fit(X_train_tfidf , y_train_tfidf)"
      ],
      "execution_count": null,
      "outputs": []
    },
    {
      "cell_type": "code",
      "metadata": {
        "id": "HlwWZytARER6"
      },
      "source": [
        "ypredicted = model_GB.predict(X_test_tfidf)\n",
        "accuracy_tfidf = accuracy_score(y_test_tfidf, ypredicted)\n",
        "accuracy_tfidf"
      ],
      "execution_count": null,
      "outputs": []
    },
    {
      "cell_type": "code",
      "metadata": {
        "id": "fJxo-dl3SNrB"
      },
      "source": [
        "matthews_corrcoef(y_test_tfidf, ypredicted)"
      ],
      "execution_count": null,
      "outputs": []
    },
    {
      "cell_type": "code",
      "metadata": {
        "id": "SBIbtEACbh4j"
      },
      "source": [
        "clf = RandomForestClassifier(n_estimators=500)\n",
        "clf.fit(X_train_tfidf , y_train_tfidf)\n"
      ],
      "execution_count": null,
      "outputs": []
    },
    {
      "cell_type": "code",
      "metadata": {
        "id": "b0uiY_Mwbh07"
      },
      "source": [
        "randompred = clf.predict(X_test_tfidf)"
      ],
      "execution_count": null,
      "outputs": []
    },
    {
      "cell_type": "code",
      "metadata": {
        "id": "163UiO1d8b0c"
      },
      "source": [
        "randomtestpred = clf.predict(test_char_features)"
      ],
      "execution_count": null,
      "outputs": []
    },
    {
      "cell_type": "code",
      "metadata": {
        "id": "P_VW4xUNbhyL"
      },
      "source": [
        "matthews_corrcoef(y_test_tfidf , randompred)"
      ],
      "execution_count": null,
      "outputs": []
    },
    {
      "cell_type": "code",
      "metadata": {
        "id": "D7JY2kyvHmAv"
      },
      "source": [
        "model_NB.fit(train_char_features, df['label'])\n",
        "predictions_tfidf = model_NB.predict(test_char_features)\n",
        "# accuracy_tfidf = accuracy_score(y_test_tfidf, predictions_tfidf)\n",
        "# accuracy_tfidf"
      ],
      "execution_count": null,
      "outputs": []
    },
    {
      "cell_type": "code",
      "metadata": {
        "id": "JNUHbdiaObbz"
      },
      "source": [
        "set(predictions_tfidf)"
      ],
      "execution_count": null,
      "outputs": []
    },
    {
      "cell_type": "code",
      "metadata": {
        "id": "S7L0s0-TObM2"
      },
      "source": [
        "knn = KNeighborsClassifier(n_neighbors=5)\n",
        "knn.fit(X_train_tfidf , y_train_tfidf)"
      ],
      "execution_count": null,
      "outputs": []
    },
    {
      "cell_type": "code",
      "metadata": {
        "id": "Vk48nnEXObJU"
      },
      "source": [
        "predicted = knn.predict(X_test_tfidf )"
      ],
      "execution_count": null,
      "outputs": []
    },
    {
      "cell_type": "code",
      "metadata": {
        "id": "WAiHe2iNJHa6"
      },
      "source": [
        "matthews_corrcoef(y_test_tfidf, predicted)"
      ],
      "execution_count": null,
      "outputs": []
    },
    {
      "cell_type": "code",
      "metadata": {
        "id": "8MQuosEMZgkm"
      },
      "source": [
        "knn = KNeighborsClassifier(n_neighbors=5)\n",
        "knn.fit( train_char_features, df['label'])"
      ],
      "execution_count": null,
      "outputs": []
    },
    {
      "cell_type": "code",
      "metadata": {
        "id": "jBMPN8uGZ0L-"
      },
      "source": [
        "predictions = knn.predict(test_char_features)"
      ],
      "execution_count": null,
      "outputs": []
    }
  ]
}